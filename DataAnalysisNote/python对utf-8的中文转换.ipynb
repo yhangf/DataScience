{
 "cells": [
  {
   "cell_type": "markdown",
   "metadata": {},
   "source": [
    "python3默认支持utf-8，因此对于\\uXXXX这种格式的中文，可以直接转换，但经常爬虫抓取回来的中文是\\\\uXXXX格式，因此需要进行转换"
   ]
  },
  {
   "cell_type": "code",
   "execution_count": 1,
   "metadata": {},
   "outputs": [
    {
     "name": "stdout",
     "output_type": "stream",
     "text": [
      "s1= 热门铭文推荐\n",
      "s2= \\u70ed\\u95e8\\u94ed\\u6587\\u63a8\\u8350\n",
      "s3= 热门铭文推荐\n"
     ]
    }
   ],
   "source": [
    "s1='\\u70ed\\u95e8\\u94ed\\u6587\\u63a8\\u8350'\n",
    "print('s1=',s1)\n",
    "\n",
    "s2='\\\\u70ed\\\\u95e8\\\\u94ed\\\\u6587\\\\u63a8\\\\u8350'\n",
    "print('s2=',s2)\n",
    "\n",
    "s3=s2.encode('utf-8').decode('unicode_escape')\n",
    "print('s3=',s3)"
   ]
  }
 ],
 "metadata": {
  "kernelspec": {
   "display_name": "Python 3",
   "language": "python",
   "name": "python3"
  },
  "language_info": {
   "codemirror_mode": {
    "name": "ipython",
    "version": 3
   },
   "file_extension": ".py",
   "mimetype": "text/x-python",
   "name": "python",
   "nbconvert_exporter": "python",
   "pygments_lexer": "ipython3",
   "version": "3.7.0"
  }
 },
 "nbformat": 4,
 "nbformat_minor": 2
}
