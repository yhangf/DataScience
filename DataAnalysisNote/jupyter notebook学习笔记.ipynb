{
 "cells": [
  {
   "cell_type": "markdown",
   "metadata": {},
   "source": [
    "## jupyter notebook优点\n",
    "前几天装好了Anaconda，但一直没弄明白里面的jupyter notebook到底有什么好处。感觉就是一个在网页里运行代码的工具。\n",
    "研究了两天，渐渐发现优点了：\n",
    "- 支持markdown，并且是所见及所得，编辑好一段文字后`Shift+Enter`即可即时看到文字效果，重新点击再`Enter`可以继续编辑；\n",
    "- 可以很方便的在同一页面里既写文档又编辑运行代码，而以前需要开一个文档窗口一个代码窗口，还要手工将代码及运行结果复制到文档里；\n",
    "- 已经运行的代码可以返回重新编辑，然后再次运行，以前如果运行代码时，发现之前的代码有错误，需要将出错的代码修改后重新运行，之后的其他代码也需要再次重新输入运行，而notebook可以直接点击编辑出错的代码，然后选择重新运行所有代码。"
   ]
  },
  {
   "cell_type": "markdown",
   "metadata": {},
   "source": [
    "## 修改notebook默认目录\n",
    "windows下notebook的默认目录是用户目录，这当然不是很方便，因此需要修改下默认目录。\n",
    "1. 运行Anaconda Prompt终端，输入以下命令查看配置文件路径：\n",
    "```\n",
    "jupyter notebook --generate-config\n",
    "```\n",
    "2. 根据上面的路径，找到并打开配置文件jupyter_notebook_config.py，查找配置项c.NotebookApp.notebook_dir，去除注释标志，并修改内容为需要的目录，注意windows需要使用\\\\；\n",
    "3. 重启jupyter notebook。"
   ]
  },
  {
   "cell_type": "markdown",
   "metadata": {},
   "source": [
    "## 常用快捷键\n",
    "- 执行当前cell，并自动跳到下一个cell：Shift Enter\n",
    "\n",
    "- 执行当前cell，执行后不自动调转到下一个cell：Ctrl-Enter\n",
    "\n",
    "- 是当前的cell进入编辑模式：Enter\n",
    "\n",
    "- 退出当前cell的编辑模式：Esc\n",
    "\n",
    "- 删除当前的cell：双D\n",
    "\n",
    "- 为当前的cell加入line number：单L\n",
    "\n",
    "- 将当前的cell转化为具有一级标题的maskdown：单1\n",
    "\n",
    "- 将当前的cell转化为具有二级标题的maskdown：单2\n",
    "\n",
    "- 将当前的cell转化为具有三级标题的maskdown：单3\n",
    "\n",
    "- 为一行或者多行添加/取消注释：Crtl /\n",
    "\n",
    "- 撤销对某个cell的删除：z\n",
    "\n",
    "- 浏览器的各个Tab之间切换：Crtl PgUp和Crtl PgDn\n",
    "\n",
    "- 快速跳转到首个cell：Crtl Home\n",
    "\n",
    "- 快速跳转到最后一个cell：Crtl End\n",
    "--------------------- \n",
    "作者：tina_ttl \n",
    "来源：CSDN \n",
    "原文：https://blog.csdn.net/tina_ttl/article/details/51031113 "
   ]
  },
  {
   "cell_type": "markdown",
   "metadata": {},
   "source": [
    "## 魔术命令\n",
    "魔术命令其实是IPython的特殊命令，以%开头，用以完成特定任务，jupyter notebook基于IPython的，因此也可以使用魔术命令。\n",
    "- `%load 导入脚本，可以从文件导入，也可以使用url导入。导入后第一行显示导入命令，后面显示脚本的内容。\n",
    "例如执行`%run test.py`，结果如下："
   ]
  },
  {
   "cell_type": "code",
   "execution_count": 1,
   "metadata": {},
   "outputs": [
    {
     "name": "stdout",
     "output_type": "stream",
     "text": [
      "[1 2 3 4]\n"
     ]
    }
   ],
   "source": [
    "# %load test.py\n",
    "import numpy as np\n",
    "\n",
    "arr=np.array([1,2,3,4])\n",
    "print(arr)"
   ]
  },
  {
   "cell_type": "markdown",
   "metadata": {},
   "source": [
    "- %run 执行脚本命令"
   ]
  },
  {
   "cell_type": "code",
   "execution_count": 2,
   "metadata": {},
   "outputs": [
    {
     "name": "stdout",
     "output_type": "stream",
     "text": [
      "[1 2 3 4]\n"
     ]
    }
   ],
   "source": [
    "%run test.py"
   ]
  },
  {
   "cell_type": "markdown",
   "metadata": {},
   "source": [
    "- %pwd 显示当前目录路径"
   ]
  },
  {
   "cell_type": "code",
   "execution_count": 3,
   "metadata": {},
   "outputs": [
    {
     "data": {
      "text/plain": [
       "'F:\\\\jupyter notebook'"
      ]
     },
     "execution_count": 3,
     "metadata": {},
     "output_type": "execute_result"
    }
   ],
   "source": [
    "%pwd"
   ]
  },
  {
   "cell_type": "markdown",
   "metadata": {},
   "source": [
    "- %timeit 计算单行命令的执行时间，%%timeit 计算多行命令的执行时间"
   ]
  },
  {
   "cell_type": "code",
   "execution_count": 4,
   "metadata": {},
   "outputs": [
    {
     "name": "stdout",
     "output_type": "stream",
     "text": [
      "8.52 ms ± 2.19 ms per loop (mean ± std. dev. of 7 runs, 100 loops each)\n"
     ]
    }
   ],
   "source": [
    "%timeit n=[a**2 for a in range(10000)]"
   ]
  },
  {
   "cell_type": "code",
   "execution_count": 5,
   "metadata": {},
   "outputs": [
    {
     "name": "stdout",
     "output_type": "stream",
     "text": [
      "11.4 ms ± 429 µs per loop (mean ± std. dev. of 7 runs, 100 loops each)\n"
     ]
    }
   ],
   "source": [
    "%%timeit\n",
    "n=[]\n",
    "for a in range(10000):\n",
    "    n.append(a**2)"
   ]
  },
  {
   "cell_type": "markdown",
   "metadata": {},
   "source": [
    "- %reset 删除所有变量"
   ]
  },
  {
   "cell_type": "code",
   "execution_count": 6,
   "metadata": {},
   "outputs": [
    {
     "data": {
      "text/plain": [
       "array([1, 2, 3, 4])"
      ]
     },
     "execution_count": 6,
     "metadata": {},
     "output_type": "execute_result"
    }
   ],
   "source": [
    "arr"
   ]
  },
  {
   "cell_type": "code",
   "execution_count": 7,
   "metadata": {},
   "outputs": [
    {
     "name": "stdout",
     "output_type": "stream",
     "text": [
      "Once deleted, variables cannot be recovered. Proceed (y/[n])? y\n"
     ]
    }
   ],
   "source": [
    "%reset"
   ]
  },
  {
   "cell_type": "code",
   "execution_count": 8,
   "metadata": {},
   "outputs": [
    {
     "ename": "NameError",
     "evalue": "name 'arr' is not defined",
     "output_type": "error",
     "traceback": [
      "\u001b[1;31m---------------------------------------------------------------------------\u001b[0m",
      "\u001b[1;31mNameError\u001b[0m                                 Traceback (most recent call last)",
      "\u001b[1;32m<ipython-input-8-a221b3019642>\u001b[0m in \u001b[0;36m<module>\u001b[1;34m()\u001b[0m\n\u001b[1;32m----> 1\u001b[1;33m \u001b[0marr\u001b[0m \u001b[1;31m# 变量arr已经不存在了\u001b[0m\u001b[1;33m\u001b[0m\u001b[0m\n\u001b[0m",
      "\u001b[1;31mNameError\u001b[0m: name 'arr' is not defined"
     ]
    }
   ],
   "source": [
    "arr # 变量arr已经不存在了"
   ]
  },
  {
   "cell_type": "markdown",
   "metadata": {},
   "source": [
    "- %xdel 删除单个变量"
   ]
  },
  {
   "cell_type": "code",
   "execution_count": 9,
   "metadata": {},
   "outputs": [],
   "source": [
    "arr=[1,2,3,4]"
   ]
  },
  {
   "cell_type": "code",
   "execution_count": 10,
   "metadata": {},
   "outputs": [
    {
     "data": {
      "text/plain": [
       "[1, 2, 3, 4]"
      ]
     },
     "execution_count": 10,
     "metadata": {},
     "output_type": "execute_result"
    }
   ],
   "source": [
    "arr"
   ]
  },
  {
   "cell_type": "code",
   "execution_count": 11,
   "metadata": {},
   "outputs": [],
   "source": [
    "%xdel arr"
   ]
  },
  {
   "cell_type": "code",
   "execution_count": 12,
   "metadata": {},
   "outputs": [
    {
     "ename": "NameError",
     "evalue": "name 'arr' is not defined",
     "output_type": "error",
     "traceback": [
      "\u001b[1;31m---------------------------------------------------------------------------\u001b[0m",
      "\u001b[1;31mNameError\u001b[0m                                 Traceback (most recent call last)",
      "\u001b[1;32m<ipython-input-12-24a6d41c5b66>\u001b[0m in \u001b[0;36m<module>\u001b[1;34m()\u001b[0m\n\u001b[1;32m----> 1\u001b[1;33m \u001b[0marr\u001b[0m\u001b[1;33m\u001b[0m\u001b[0m\n\u001b[0m",
      "\u001b[1;31mNameError\u001b[0m: name 'arr' is not defined"
     ]
    }
   ],
   "source": [
    "arr"
   ]
  },
  {
   "cell_type": "markdown",
   "metadata": {},
   "source": [
    "- ? 查看帮助"
   ]
  }
 ],
 "metadata": {
  "kernelspec": {
   "display_name": "Python 3",
   "language": "python",
   "name": "python3"
  },
  "language_info": {
   "codemirror_mode": {
    "name": "ipython",
    "version": 3
   },
   "file_extension": ".py",
   "mimetype": "text/x-python",
   "name": "python",
   "nbconvert_exporter": "python",
   "pygments_lexer": "ipython3",
   "version": "3.7.0"
  }
 },
 "nbformat": 4,
 "nbformat_minor": 2
}
