{
 "cells": [
  {
   "cell_type": "markdown",
   "metadata": {},
   "source": [
    "matplotlib默认配置下，中文会被显示成一个个方块，这是因为matplotlib的字体文件并不包含中文字体，需要进行一些设置才能正常显示中文。  \n",
    "- 方法1：直接修改matplotlib的配置文件matplotlibrc，以后无需任何设置直接可以显示中文\n",
    "    1. 执行以下代码获取配置文件位置\n",
    "    ```python\n",
    "    import matplotlib  \n",
    "    matplotlib.matplotlib_fname()\n",
    "    # 路径通常为.\\Anaconda3\\Lib\\site-packages\\matplotlib\\mpl-data\\matplotlibrc\n",
    "    ```\n",
    "    2. 复制字体文件到matplotlib字体目录，字体目录路径为`.\\mpl-data\\fonts\\ttf`，如要添加微软雅黑，就将`msyh.ttf`文件复制到字体目录中\n",
    "    3. 打开matplotlibrc配置文件，找到以下配置项，清除注释，并做相应内容修改：\n",
    "    ```\n",
    "    font.family: sans-serif\n",
    "    ...\n",
    "    font.sans-serif: Microsoft YaHei, DejaVu Sans, Bitstream Vera Sans, Computer Modern Sans Serif, Lucida Grande, Verdana, Geneva, Lucid, Arial, Helvetica, Avant Garde, sans-serif\n",
    "    ...\n",
    "    axes.unicode_minus: False # 这个设置使得坐标轴的负号能正常显示\n",
    "    ```\n",
    "    如微软雅黑属于`sans-serif`，因此`font.family`类型就为`sans-serif`，然后再找到`font.sans-serif`项，添加微软雅黑的字体名称`Microsoft YaHei`\n",
    "    4. 修改保存后，重启服务即可，或者可以执行以下代码重新载入字体：\n",
    "    ```python\n",
    "    from matplotlib.font_manager import _rebuild\n",
    "    _rebuild()\n",
    "    ```\n",
    "- 方法2：使用`plt.rc()`方法修改配置，每次都需先进行配置修改才能显示中文  \n",
    "`plt.rc()`命令可以直接对matplotlibrc配置文件里所包含的各种配置进行修改，但这些修改仅对当前运行的程序有效，另外仍需手工复制字体文件到matplotlib字体目录中。  \n",
    "修改方法如下：\n",
    "```python\n",
    "import matplotlib.pyplot as plt\n",
    "font_options = {\n",
    "    'family' : 'sans-serif',\n",
    "    'sans-serif':\n",
    "    'Microsoft YaHei, DejaVu Sans, Bitstream Vera Sans, Lucida Grande, Verdana, Geneva, Lucid, Arial, Helvetica, Avant Garde, sans-serif',\n",
    "}\n",
    "plt.rc('font', **font_options)\n",
    "plt.rc('axes', unicode_minus=False)\n",
    "```"
   ]
  },
  {
   "cell_type": "markdown",
   "metadata": {},
   "source": [
    "**注意：**  \n",
    "- 添加的字体名次必须放在首位，否则无法生效\n",
    "- win10下系统字体文件后缀是ttc，直接复制到字体目录无法使用，可手工修改后缀为ttf\n",
    "- 字体名称并非字体文件名称，以下是常见字体和字体名称的对应表，供参考：  \n"
   ]
  },
  {
   "cell_type": "markdown",
   "metadata": {},
   "source": [
    "| 字体 | 字体名称 |  \n",
    "| :------: | :------: |\n",
    "| 黑体\t| SimHei|\n",
    "|微软雅黑|\tMicrosoft YaHei|\n",
    "|微软正黑体|\tMicrosoft JhengHei|\n",
    "|新宋体|\tNSimSun|\n",
    "|新细明体|\tPMingLiU|\n",
    "|细明体|\tMingLiU|\n",
    "|标楷体|\tDFKai-SB|\n",
    "|仿宋|\tFangSong|\n",
    "|楷体|\tKaiTi|\n",
    "|仿宋_GB2312|\tFangSong_GB2312|\n",
    "|楷体_GB2312|\tKaiTi_GB2312|"
   ]
  }
 ],
 "metadata": {
  "kernelspec": {
   "display_name": "Python 3",
   "language": "python",
   "name": "python3"
  },
  "language_info": {
   "codemirror_mode": {
    "name": "ipython",
    "version": 3
   },
   "file_extension": ".py",
   "mimetype": "text/x-python",
   "name": "python",
   "nbconvert_exporter": "python",
   "pygments_lexer": "ipython3",
   "version": "3.7.0"
  }
 },
 "nbformat": 4,
 "nbformat_minor": 2
}
