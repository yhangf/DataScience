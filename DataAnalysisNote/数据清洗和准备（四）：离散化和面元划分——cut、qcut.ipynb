{
 "cells": [
  {
   "cell_type": "markdown",
   "metadata": {},
   "source": [
    "## 离散化和面元划分\n",
    "`cut`  \n",
    "将连续数据（样本）划分为“面元”（bin）  \n",
    "参数  \n",
    "`right`：面元区间是否包括右侧数值，默认`True`包括右侧数值但不包括左侧数值  \n",
    "`labels`：设置面元区间名称，接收包含区间名称的列表或数组  \n",
    "`precision`：面元区间边界数值的小数位数\n",
    "- 样本应该为一个序列如array或list\n",
    "- 可以传入一个面元，面元是一个序列如list或array，其每个元素之间就是一个区间，样本根据每个区间进行分类\n",
    "- 也可以传入一个代表面元数量的整数，会根据面元数量及样本的最大最小值计算出等长面元，然后根据这个面元进划分，`precision`参数可以设置面元区间的数值小数位数\n",
    "- 划分后返回一个Categorical对象\n",
    "- 面元的每个区间默认包括最右侧数值而不包括左侧数值，因此默认情况下**面元序列最左侧数值相同的数值是不参与划分的**；可使用`right=False`修改为左侧闭端\n",
    "  \n",
    "`Categorical`对象：  \n",
    "属性  \n",
    "`codes`：array类型，样本每个元素所在区间的序号  \n",
    "`categories`：分类区间信息，包括区间列表，闭端方向，数据类型等"
   ]
  },
  {
   "cell_type": "code",
   "execution_count": 1,
   "metadata": {},
   "outputs": [],
   "source": [
    "import numpy as np\n",
    "import pandas as pd"
   ]
  },
  {
   "cell_type": "code",
   "execution_count": 2,
   "metadata": {},
   "outputs": [
    {
     "data": {
      "text/plain": [
       "[6, 1, 7, 8, 7, 8, 4, 5, 9]"
      ]
     },
     "execution_count": 2,
     "metadata": {},
     "output_type": "execute_result"
    }
   ],
   "source": [
    "score = [6, 1, 7, 8, 7, 8, 4, 5, 9]\n",
    "score"
   ]
  },
  {
   "cell_type": "code",
   "execution_count": 3,
   "metadata": {},
   "outputs": [],
   "source": [
    "bins = [1, 6, 8, 10]  # 定义面元序列\n",
    "cats = pd.cut(score, bins)  # 开始划分"
   ]
  },
  {
   "cell_type": "code",
   "execution_count": 4,
   "metadata": {},
   "outputs": [
    {
     "data": {
      "text/plain": [
       "[(1, 6], NaN, (6, 8], (6, 8], (6, 8], (6, 8], (1, 6], (1, 6], (8, 10]]\n",
       "Categories (3, interval[int64]): [(1, 6] < (6, 8] < (8, 10]]"
      ]
     },
     "execution_count": 4,
     "metadata": {},
     "output_type": "execute_result"
    }
   ],
   "source": [
    "# 返回的是Categorical对象，可以看到每个score元素所属的区间，以及每个区间的范围\n",
    "# 注意划分点的数值6和8分别属于区间0和区间1\n",
    "# 1在面元序列内，但是最左侧数据，默认是不包括最左侧数据的，因此1不在面元范围内，表示为NaN\n",
    "cats"
   ]
  },
  {
   "cell_type": "code",
   "execution_count": 5,
   "metadata": {},
   "outputs": [
    {
     "data": {
      "text/plain": [
       "array([ 0, -1,  1,  1,  1,  1,  0,  0,  2], dtype=int8)"
      ]
     },
     "execution_count": 5,
     "metadata": {},
     "output_type": "execute_result"
    }
   ],
   "source": [
    "# codes属性表示score的每个元素所在的区间序号，-1代表数值不在面元范围内\n",
    "cats.codes"
   ]
  },
  {
   "cell_type": "code",
   "execution_count": 6,
   "metadata": {},
   "outputs": [
    {
     "data": {
      "text/plain": [
       "IntervalIndex([(1, 6], (6, 8], (8, 10]]\n",
       "              closed='right',\n",
       "              dtype='interval[int64]')"
      ]
     },
     "execution_count": 6,
     "metadata": {},
     "output_type": "execute_result"
    }
   ],
   "source": [
    "cats.categories  # categories属性，分类区间信息"
   ]
  },
  {
   "cell_type": "code",
   "execution_count": 7,
   "metadata": {},
   "outputs": [
    {
     "data": {
      "text/plain": [
       "(6, 8]     4\n",
       "(1, 6]     3\n",
       "(8, 10]    1\n",
       "dtype: int64"
      ]
     },
     "execution_count": 7,
     "metadata": {},
     "output_type": "execute_result"
    }
   ],
   "source": [
    "# value_counts()对每个区间的元素计数，和后面的qcut()结果比较\n",
    "pd.value_counts(cats)"
   ]
  },
  {
   "cell_type": "code",
   "execution_count": 8,
   "metadata": {},
   "outputs": [
    {
     "data": {
      "text/plain": [
       "[ok, bad, ok, good, ok, good, bad, bad, good]\n",
       "Categories (3, object): [bad < ok < good]"
      ]
     },
     "execution_count": 8,
     "metadata": {},
     "output_type": "execute_result"
    }
   ],
   "source": [
    "# 设置为不包含右侧（包含左侧），并为每个区间设置名称\n",
    "# 注意6和8分别属于区间1和区间2，而1也在面元范围内属于区间0\n",
    "pd.cut(score, bins, right=False, labels=['bad', 'ok', 'good'])"
   ]
  },
  {
   "cell_type": "code",
   "execution_count": 9,
   "metadata": {},
   "outputs": [
    {
     "data": {
      "text/plain": [
       "[(3.67, 6.33], (0.99, 3.67], (6.33, 9.0], (6.33, 9.0], (6.33, 9.0], (6.33, 9.0], (3.67, 6.33], (3.67, 6.33], (6.33, 9.0]]\n",
       "Categories (3, interval[float64]): [(0.99, 3.67] < (3.67, 6.33] < (6.33, 9.0]]"
      ]
     },
     "execution_count": 9,
     "metadata": {},
     "output_type": "execute_result"
    }
   ],
   "source": [
    "# 传入面元数量3，根据score最大最小值，计算出等长的3个区间，并设置小数位数为2\n",
    "pd.cut(score, 3, precision=2)"
   ]
  },
  {
   "cell_type": "code",
   "execution_count": 10,
   "metadata": {},
   "outputs": [
    {
     "data": {
      "text/plain": [
       "[(6.0, 7.0], (0.0, 6.0], (6.0, 7.0], (7.0, 9.0], (6.0, 7.0], (7.0, 9.0], (0.0, 6.0], (0.0, 6.0], (7.0, 9.0]]\n",
       "Categories (3, interval[float64]): [(0.0, 6.0] < (6.0, 7.0] < (7.0, 9.0]]"
      ]
     },
     "execution_count": 10,
     "metadata": {},
     "output_type": "execute_result"
    }
   ],
   "source": [
    "# qcut()根据样本分布情况划分\n",
    "cats_q = pd.qcut(score, 3, precision=0)\n",
    "cats_q"
   ]
  },
  {
   "cell_type": "markdown",
   "metadata": {},
   "source": [
    "`qcut`  \n",
    "类似于`cut`，根据样本的分布情况进行划分\n",
    "- 传入区间数量时，划分出的每个区间的样本数量相同  \n",
    "- 传入分位数（列表或数组，元素为0到1之间的数值，相当于百分位，包含端点）时，每个区间的样本数量按分位数的比例进行划分"
   ]
  },
  {
   "cell_type": "code",
   "execution_count": 11,
   "metadata": {},
   "outputs": [
    {
     "data": {
      "text/plain": [
       "(7.0, 9.0]    3\n",
       "(6.0, 7.0]    3\n",
       "(0.0, 6.0]    3\n",
       "dtype: int64"
      ]
     },
     "execution_count": 11,
     "metadata": {},
     "output_type": "execute_result"
    }
   ],
   "source": [
    "# qcut()划分出来的区间每个元素数量相同\n",
    "pd.value_counts(cats_q)"
   ]
  },
  {
   "cell_type": "code",
   "execution_count": 12,
   "metadata": {
    "scrolled": true
   },
   "outputs": [
    {
     "data": {
      "text/plain": [
       "(0.999, 7.333]    6\n",
       "(7.333, 9.0]      3\n",
       "dtype: int64"
      ]
     },
     "execution_count": 12,
     "metadata": {},
     "output_type": "execute_result"
    }
   ],
   "source": [
    "# 传入分位数来划分，比如9个样本，2/3为一个区间，另外1/3为一个区间\n",
    "pd.value_counts(pd.qcut(score, [0, 2/3, 1]))"
   ]
  }
 ],
 "metadata": {
  "kernelspec": {
   "display_name": "Python 3",
   "language": "python",
   "name": "python3"
  },
  "language_info": {
   "codemirror_mode": {
    "name": "ipython",
    "version": 3
   },
   "file_extension": ".py",
   "mimetype": "text/x-python",
   "name": "python",
   "nbconvert_exporter": "python",
   "pygments_lexer": "ipython3",
   "version": "3.7.0"
  },
  "toc": {
   "base_numbering": 1,
   "nav_menu": {},
   "number_sections": true,
   "sideBar": true,
   "skip_h1_title": false,
   "title_cell": "Table of Contents",
   "title_sidebar": "Contents",
   "toc_cell": false,
   "toc_position": {
    "height": "750px",
    "left": "345px",
    "top": "210px",
    "width": "190.391px"
   },
   "toc_section_display": true,
   "toc_window_display": true
  },
  "varInspector": {
   "cols": {
    "lenName": 16,
    "lenType": 16,
    "lenVar": 40
   },
   "kernels_config": {
    "python": {
     "delete_cmd_postfix": "",
     "delete_cmd_prefix": "del ",
     "library": "var_list.py",
     "varRefreshCmd": "print(var_dic_list())"
    },
    "r": {
     "delete_cmd_postfix": ") ",
     "delete_cmd_prefix": "rm(",
     "library": "var_list.r",
     "varRefreshCmd": "cat(var_dic_list()) "
    }
   },
   "oldHeight": 195,
   "position": {
    "height": "217px",
    "left": "458px",
    "right": "20px",
    "top": "120px",
    "width": "480px"
   },
   "types_to_exclude": [
    "module",
    "function",
    "builtin_function_or_method",
    "instance",
    "_Feature"
   ],
   "varInspector_section_display": "block",
   "window_display": false
  }
 },
 "nbformat": 4,
 "nbformat_minor": 2
}
