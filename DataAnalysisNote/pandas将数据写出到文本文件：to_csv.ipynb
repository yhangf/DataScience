{
 "cells": [
  {
   "cell_type": "markdown",
   "metadata": {},
   "source": [
    "## 将数据写出到文本文件\n",
    "### to_csv\n",
    "**参数**  \n",
    "`sep`：指定分隔符，默认为逗号  \n",
    "`na_rep`：将空值转换为指定值  \n",
    "`index` `header`：布尔值，是否将行/列标签写到文件，默认True  \n",
    "`columns`：列表，指定写出哪些列，并按给出的顺序排列  \n",
    ">**注：**为了显示写出的内容，指定写出文件为sys.stdout，这样可以仅仅只打印出文本结果，而无需保存为文件。"
   ]
  },
  {
   "cell_type": "code",
   "execution_count": 1,
   "metadata": {},
   "outputs": [],
   "source": [
    "import pandas as pd\n",
    "import sys"
   ]
  },
  {
   "cell_type": "code",
   "execution_count": 2,
   "metadata": {},
   "outputs": [
    {
     "name": "stdout",
     "output_type": "stream",
     "text": [
      "A,B,C,D\n",
      "a,b,c,d\n",
      "e,f,g,\n",
      "d,f,a,g\n"
     ]
    },
    {
     "data": {
      "text/html": [
       "<div>\n",
       "<style scoped>\n",
       "    .dataframe tbody tr th:only-of-type {\n",
       "        vertical-align: middle;\n",
       "    }\n",
       "\n",
       "    .dataframe tbody tr th {\n",
       "        vertical-align: top;\n",
       "    }\n",
       "\n",
       "    .dataframe thead th {\n",
       "        text-align: right;\n",
       "    }\n",
       "</style>\n",
       "<table border=\"1\" class=\"dataframe\">\n",
       "  <thead>\n",
       "    <tr style=\"text-align: right;\">\n",
       "      <th></th>\n",
       "      <th>A</th>\n",
       "      <th>B</th>\n",
       "      <th>C</th>\n",
       "      <th>D</th>\n",
       "    </tr>\n",
       "  </thead>\n",
       "  <tbody>\n",
       "    <tr>\n",
       "      <th>0</th>\n",
       "      <td>a</td>\n",
       "      <td>b</td>\n",
       "      <td>c</td>\n",
       "      <td>d</td>\n",
       "    </tr>\n",
       "    <tr>\n",
       "      <th>1</th>\n",
       "      <td>e</td>\n",
       "      <td>f</td>\n",
       "      <td>g</td>\n",
       "      <td>NaN</td>\n",
       "    </tr>\n",
       "    <tr>\n",
       "      <th>2</th>\n",
       "      <td>d</td>\n",
       "      <td>f</td>\n",
       "      <td>a</td>\n",
       "      <td>g</td>\n",
       "    </tr>\n",
       "  </tbody>\n",
       "</table>\n",
       "</div>"
      ],
      "text/plain": [
       "   A  B  C    D\n",
       "0  a  b  c    d\n",
       "1  e  f  g  NaN\n",
       "2  d  f  a    g"
      ]
     },
     "execution_count": 2,
     "metadata": {},
     "output_type": "execute_result"
    }
   ],
   "source": [
    "!type doc\\csv-nan.csv\n",
    "data=pd.read_csv('doc\\csv-nan.csv')\n",
    "data # 先读取一个csv文件"
   ]
  },
  {
   "cell_type": "code",
   "execution_count": 3,
   "metadata": {},
   "outputs": [],
   "source": [
    "data.to_csv('doc\\csv-write.csv') # 将数据写入文本"
   ]
  },
  {
   "cell_type": "code",
   "execution_count": 4,
   "metadata": {
    "scrolled": true
   },
   "outputs": [
    {
     "name": "stdout",
     "output_type": "stream",
     "text": [
      ",A,B,C,D\n",
      "0,a,b,c,d\n",
      "1,e,f,g,\n",
      "2,d,f,a,g\n"
     ]
    }
   ],
   "source": [
    "# 查看写入的文本，以逗号分隔，并多出了行标签内容\n",
    "!type doc\\csv-write.csv"
   ]
  },
  {
   "cell_type": "code",
   "execution_count": 5,
   "metadata": {},
   "outputs": [
    {
     "name": "stdout",
     "output_type": "stream",
     "text": [
      "A|B|C|D\n",
      "a|b|c|d\n",
      "e|f|g|\n",
      "d|f|a|g\n"
     ]
    }
   ],
   "source": [
    "data.to_csv(sys.stdout,sep='|',index=False) # 直接打印写出结果，指定分隔符，不写出行标签"
   ]
  },
  {
   "cell_type": "code",
   "execution_count": 6,
   "metadata": {},
   "outputs": [
    {
     "name": "stdout",
     "output_type": "stream",
     "text": [
      ",A,B,C,D\n",
      "0,a,b,c,d\n",
      "1,e,f,g,空白\n",
      "2,d,f,a,g\n"
     ]
    }
   ],
   "source": [
    "data.to_csv(sys.stdout,na_rep='空白') # 替换空值内容"
   ]
  },
  {
   "cell_type": "code",
   "execution_count": 7,
   "metadata": {},
   "outputs": [
    {
     "name": "stdout",
     "output_type": "stream",
     "text": [
      ",C,A\n",
      "0,c,a\n",
      "1,g,e\n",
      "2,a,d\n"
     ]
    }
   ],
   "source": [
    "data.to_csv(sys.stdout,columns=['C','A']) # 只写出指定的列，并按指定顺序排列"
   ]
  },
  {
   "cell_type": "code",
   "execution_count": null,
   "metadata": {},
   "outputs": [],
   "source": []
  }
 ],
 "metadata": {
  "kernelspec": {
   "display_name": "Python 3",
   "language": "python",
   "name": "python3"
  },
  "language_info": {
   "codemirror_mode": {
    "name": "ipython",
    "version": 3
   },
   "file_extension": ".py",
   "mimetype": "text/x-python",
   "name": "python",
   "nbconvert_exporter": "python",
   "pygments_lexer": "ipython3",
   "version": "3.7.0"
  }
 },
 "nbformat": 4,
 "nbformat_minor": 2
}
