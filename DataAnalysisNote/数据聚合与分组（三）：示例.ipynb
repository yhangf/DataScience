{
 "cells": [
  {
   "cell_type": "markdown",
   "metadata": {},
   "source": [
    "## 1. 使用分组值填充缺失值\n",
    "- 对于有缺失值的数据，可以使用`fillna()`使用指定的数据去填充缺失值\n",
    "- 对于分组后的各组数据里的缺失值，如果需要使用与所属分组有关的数据来填充缺失值，可以使用`apply()`调用一个填充缺失值功能的函数来处理\n",
    "- 也可以使用指定的值去填充不同分组的缺失值"
   ]
  },
  {
   "cell_type": "code",
   "execution_count": 1,
   "metadata": {},
   "outputs": [],
   "source": [
    "import numpy as np\n",
    "import pandas as pd"
   ]
  },
  {
   "cell_type": "code",
   "execution_count": 2,
   "metadata": {},
   "outputs": [
    {
     "data": {
      "text/plain": [
       "0    1.861629\n",
       "1    0.571884\n",
       "2         NaN\n",
       "3   -0.385672\n",
       "4    1.597879\n",
       "5         NaN\n",
       "6    0.757369\n",
       "7   -1.056566\n",
       "8         NaN\n",
       "9         NaN\n",
       "dtype: float64"
      ]
     },
     "execution_count": 2,
     "metadata": {},
     "output_type": "execute_result"
    }
   ],
   "source": [
    "s=pd.Series(np.random.randn(10))\n",
    "s[[2,5,8,9]]=np.nan\n",
    "s"
   ]
  },
  {
   "cell_type": "code",
   "execution_count": 3,
   "metadata": {},
   "outputs": [
    {
     "data": {
      "text/plain": [
       "0    1.861629\n",
       "1    0.571884\n",
       "2    0.557754\n",
       "3   -0.385672\n",
       "4    1.597879\n",
       "5    0.557754\n",
       "6    0.757369\n",
       "7   -1.056566\n",
       "8    0.557754\n",
       "9    0.557754\n",
       "dtype: float64"
      ]
     },
     "execution_count": 3,
     "metadata": {},
     "output_type": "execute_result"
    }
   ],
   "source": [
    "# 使用平均值填充所有缺失值\n",
    "s.fillna(s.mean())"
   ]
  },
  {
   "cell_type": "code",
   "execution_count": 4,
   "metadata": {},
   "outputs": [
    {
     "data": {
      "text/html": [
       "<div>\n",
       "<style scoped>\n",
       "    .dataframe tbody tr th:only-of-type {\n",
       "        vertical-align: middle;\n",
       "    }\n",
       "\n",
       "    .dataframe tbody tr th {\n",
       "        vertical-align: top;\n",
       "    }\n",
       "\n",
       "    .dataframe thead th {\n",
       "        text-align: right;\n",
       "    }\n",
       "</style>\n",
       "<table border=\"1\" class=\"dataframe\">\n",
       "  <thead>\n",
       "    <tr style=\"text-align: right;\">\n",
       "      <th></th>\n",
       "      <th>mean</th>\n",
       "      <th>count</th>\n",
       "      <th>sum</th>\n",
       "    </tr>\n",
       "  </thead>\n",
       "  <tbody>\n",
       "    <tr>\n",
       "      <th>偶数</th>\n",
       "      <td>1.405626</td>\n",
       "      <td>3</td>\n",
       "      <td>4.216877</td>\n",
       "    </tr>\n",
       "    <tr>\n",
       "      <th>奇数</th>\n",
       "      <td>-0.290118</td>\n",
       "      <td>3</td>\n",
       "      <td>-0.870354</td>\n",
       "    </tr>\n",
       "  </tbody>\n",
       "</table>\n",
       "</div>"
      ],
      "text/plain": [
       "        mean  count       sum\n",
       "偶数  1.405626      3  4.216877\n",
       "奇数 -0.290118      3 -0.870354"
      ]
     },
     "execution_count": 4,
     "metadata": {},
     "output_type": "execute_result"
    }
   ],
   "source": [
    "# 对数据根据索引进行奇偶分组\n",
    "f=lambda x:'偶数' if x%2==0 else '奇数'\n",
    "s.groupby(f).agg(['mean','count','sum'])"
   ]
  },
  {
   "cell_type": "code",
   "execution_count": 5,
   "metadata": {},
   "outputs": [
    {
     "data": {
      "text/plain": [
       "0    1.861629\n",
       "1    0.571884\n",
       "2    1.405626\n",
       "3   -0.385672\n",
       "4    1.597879\n",
       "5   -0.290118\n",
       "6    0.757369\n",
       "7   -1.056566\n",
       "8    1.405626\n",
       "9   -0.290118\n",
       "dtype: float64"
      ]
     },
     "execution_count": 5,
     "metadata": {},
     "output_type": "execute_result"
    }
   ],
   "source": [
    "# fillna_s：使用传入的数据的平均值来填充数据的缺失值\n",
    "def fillna_s(x):\n",
    "    return x.fillna(x.mean())\n",
    "\n",
    "# 使用apply，将groupby后的每个分组分别传给fillna_s函数\n",
    "# 即使用每个分组的平均值来填充该分组的缺失值\n",
    "s.groupby(f).apply(fillna_s)"
   ]
  },
  {
   "cell_type": "code",
   "execution_count": 6,
   "metadata": {},
   "outputs": [
    {
     "data": {
      "text/plain": [
       "0     1.861629\n",
       "1     0.571884\n",
       "2    88.000000\n",
       "3    -0.385672\n",
       "4     1.597879\n",
       "5    99.000000\n",
       "6     0.757369\n",
       "7    -1.056566\n",
       "8    88.000000\n",
       "9    99.000000\n",
       "dtype: float64"
      ]
     },
     "execution_count": 6,
     "metadata": {},
     "output_type": "execute_result"
    }
   ],
   "source": [
    "# 为每个分组指定不同的缺失值\n",
    "fill_value={'奇数':99,'偶数':88}\n",
    "fna=lambda x:x.fillna(fill_value[x.name])\n",
    "s.groupby(f).apply(fna)"
   ]
  },
  {
   "cell_type": "markdown",
   "metadata": {},
   "source": [
    "## 2.随机采样\n",
    "目的：建立一副52张牌的扑克，每个花色随机抽取5张"
   ]
  },
  {
   "cell_type": "code",
   "execution_count": 7,
   "metadata": {},
   "outputs": [
    {
     "data": {
      "text/plain": [
       "A桃      A\n",
       "2桃      2\n",
       "3桃      3\n",
       "4桃      4\n",
       "5桃      5\n",
       "6桃      6\n",
       "7桃      7\n",
       "8桃      8\n",
       "9桃      9\n",
       "10桃    10\n",
       "J桃      J\n",
       "Q桃      Q\n",
       "K桃      K\n",
       "dtype: object"
      ]
     },
     "execution_count": 7,
     "metadata": {},
     "output_type": "execute_result"
    }
   ],
   "source": [
    "card_suits=list('桃杏梅方')\n",
    "card_letter={1:'A',11:'J',12:'Q',13:'K'}\n",
    "# 建立A~K共13个字符格式的牌面值组成的列表\n",
    "card_num=[card_letter[x] if x==1 or x>10 else str(x) for x in np.arange(1,14)]\n",
    "cards=[]\n",
    "# 建立4种花色共52张牌的列表\n",
    "for suit in card_suits:\n",
    "    cards.extend([num+suit for num in card_num])\n",
    "cards=pd.Series(card_num*4,index=cards)\n",
    "cards[:13]"
   ]
  },
  {
   "cell_type": "code",
   "execution_count": 8,
   "metadata": {},
   "outputs": [
    {
     "data": {
      "text/plain": [
       "2方    2\n",
       "4方    4\n",
       "A梅    A\n",
       "8梅    8\n",
       "2桃    2\n",
       "dtype: object"
      ]
     },
     "execution_count": 8,
     "metadata": {},
     "output_type": "execute_result"
    }
   ],
   "source": [
    "# 随机获取5张牌\n",
    "def draw(cards,n=5):\n",
    "    return cards.sample(n)\n",
    "draw(cards)"
   ]
  },
  {
   "cell_type": "code",
   "execution_count": 10,
   "metadata": {},
   "outputs": [
    {
     "data": {
      "text/plain": [
       "方  10方    10\n",
       "   9方      9\n",
       "   5方      5\n",
       "杏  4杏      4\n",
       "   5杏      5\n",
       "   2杏      2\n",
       "桃  K桃      K\n",
       "   7桃      7\n",
       "   A桃      A\n",
       "梅  4梅      4\n",
       "   J梅      J\n",
       "   Q梅      Q\n",
       "dtype: object"
      ]
     },
     "execution_count": 10,
     "metadata": {},
     "output_type": "execute_result"
    }
   ],
   "source": [
    "# groupby()里的函数是对索引进行处理的\n",
    "# 根据索引的最后字符即花色进行分组，将每个分组代入draw()中随机抽取指定张数的牌\n",
    "cards.groupby(lambda x:x[-1]).apply(draw,3)"
   ]
  },
  {
   "cell_type": "markdown",
   "metadata": {},
   "source": [
    "## 3. 列与列之间运算\n",
    "有时候分组后的聚合运算，需要根据列之间的关系同时使用多列进行运算处理，可以将运算方法建立为一个函数，然后使用apply()调用该函数，将分组结果分别代入该函数进行运算，最后运算结果再重新组合返回。  \n",
    "**例：分组加权平均数**  \n",
    "根据category进行分组并计算每组的加权平均数，data列为数据列，weights为加权列"
   ]
  },
  {
   "cell_type": "code",
   "execution_count": 11,
   "metadata": {},
   "outputs": [
    {
     "data": {
      "text/html": [
       "<div>\n",
       "<style scoped>\n",
       "    .dataframe tbody tr th:only-of-type {\n",
       "        vertical-align: middle;\n",
       "    }\n",
       "\n",
       "    .dataframe tbody tr th {\n",
       "        vertical-align: top;\n",
       "    }\n",
       "\n",
       "    .dataframe thead th {\n",
       "        text-align: right;\n",
       "    }\n",
       "</style>\n",
       "<table border=\"1\" class=\"dataframe\">\n",
       "  <thead>\n",
       "    <tr style=\"text-align: right;\">\n",
       "      <th></th>\n",
       "      <th>category</th>\n",
       "      <th>data</th>\n",
       "      <th>weights</th>\n",
       "    </tr>\n",
       "  </thead>\n",
       "  <tbody>\n",
       "    <tr>\n",
       "      <th>0</th>\n",
       "      <td>a</td>\n",
       "      <td>-0.367151</td>\n",
       "      <td>0.103613</td>\n",
       "    </tr>\n",
       "    <tr>\n",
       "      <th>1</th>\n",
       "      <td>a</td>\n",
       "      <td>0.170277</td>\n",
       "      <td>0.538522</td>\n",
       "    </tr>\n",
       "    <tr>\n",
       "      <th>2</th>\n",
       "      <td>a</td>\n",
       "      <td>-0.342342</td>\n",
       "      <td>0.905314</td>\n",
       "    </tr>\n",
       "    <tr>\n",
       "      <th>3</th>\n",
       "      <td>a</td>\n",
       "      <td>1.580552</td>\n",
       "      <td>0.580276</td>\n",
       "    </tr>\n",
       "    <tr>\n",
       "      <th>4</th>\n",
       "      <td>b</td>\n",
       "      <td>0.255581</td>\n",
       "      <td>0.681119</td>\n",
       "    </tr>\n",
       "    <tr>\n",
       "      <th>5</th>\n",
       "      <td>b</td>\n",
       "      <td>1.005674</td>\n",
       "      <td>0.512413</td>\n",
       "    </tr>\n",
       "    <tr>\n",
       "      <th>6</th>\n",
       "      <td>b</td>\n",
       "      <td>1.198021</td>\n",
       "      <td>0.812152</td>\n",
       "    </tr>\n",
       "    <tr>\n",
       "      <th>7</th>\n",
       "      <td>b</td>\n",
       "      <td>-1.121427</td>\n",
       "      <td>0.106908</td>\n",
       "    </tr>\n",
       "  </tbody>\n",
       "</table>\n",
       "</div>"
      ],
      "text/plain": [
       "  category      data   weights\n",
       "0        a -0.367151  0.103613\n",
       "1        a  0.170277  0.538522\n",
       "2        a -0.342342  0.905314\n",
       "3        a  1.580552  0.580276\n",
       "4        b  0.255581  0.681119\n",
       "5        b  1.005674  0.512413\n",
       "6        b  1.198021  0.812152\n",
       "7        b -1.121427  0.106908"
      ]
     },
     "execution_count": 11,
     "metadata": {},
     "output_type": "execute_result"
    }
   ],
   "source": [
    "df = pd.DataFrame({'category': ['a', 'a', 'a', 'a', 'b', 'b', 'b', 'b'],\n",
    "                   'data': np.random.randn(8), 'weights': np.random.rand(8)})\n",
    "df"
   ]
  },
  {
   "cell_type": "code",
   "execution_count": 44,
   "metadata": {},
   "outputs": [
    {
     "data": {
      "text/plain": [
       "category\n",
       "a    0.310606\n",
       "b    0.730139\n",
       "dtype: float64"
      ]
     },
     "execution_count": 44,
     "metadata": {},
     "output_type": "execute_result"
    }
   ],
   "source": [
    "# 使用apply()调用average()函数，将数据和权重代入average()函数中\n",
    "# 分组结果的每个片段都代入apply()所调用的average()函数中运算，将运算结果重新组合后返回\n",
    "df.groupby('category').apply(lambda x:np.average(x['data'], weights=x['weights']))"
   ]
  },
  {
   "cell_type": "code",
   "execution_count": null,
   "metadata": {},
   "outputs": [],
   "source": []
  }
 ],
 "metadata": {
  "kernelspec": {
   "display_name": "Python 3",
   "language": "python",
   "name": "python3"
  },
  "language_info": {
   "codemirror_mode": {
    "name": "ipython",
    "version": 3
   },
   "file_extension": ".py",
   "mimetype": "text/x-python",
   "name": "python",
   "nbconvert_exporter": "python",
   "pygments_lexer": "ipython3",
   "version": "3.7.0"
  }
 },
 "nbformat": 4,
 "nbformat_minor": 2
}
