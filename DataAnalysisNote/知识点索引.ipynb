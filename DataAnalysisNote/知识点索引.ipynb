{
 "cells": [
  {
   "cell_type": "markdown",
   "metadata": {},
   "source": [
    "# pandas主要数据结构Series\n",
    "- 取值方法：索引方式`obj[]`，字典方式`obj.a`，多值选取`obj[['a','b']]`\n",
    "- 检测缺失值 `isnull()` `notnull()`"
   ]
  },
  {
   "cell_type": "markdown",
   "metadata": {},
   "source": [
    "# pandas主要数据结构DataFrame\n",
    "- 修改列顺序：`DataFrame.columns=[新顺序列表]`\n",
    "- 使用字典方式给不存在的列赋值，可以创建一个新列\n",
    "- Index索引对象内部元素是禁止修改的\n",
    "`pd.DataFrame([...],columns=frame.columns,index=frame.index)`可以创建一个与frame相同结构的DataFrame\n",
    "- Index对象的方法和属性"
   ]
  },
  {
   "cell_type": "markdown",
   "metadata": {},
   "source": [
    "# pandas基本功能\n",
    "### 索引\n",
    "- `reindex()` 使用参数里的索引，创建一个新对象，可以指定行、列、填充方式、填充缺失值\n",
    "- `drop()` 删除指定轴上的项\n",
    "\n",
    "### 切片 选取 过滤\n",
    "- 对于DataFrame，使用一个值或序列进行索引，就是获取一个或多列，`data[['a','d']]`\n",
    "- 切片得到的是指定行，`data['a':'d']`\n",
    "- 使用索引位置进行切片`data[1:4]`不包含末端，使用索引值进行切片`data['a':'d']`包含末端值\n",
    "- `loc[行标签,列标签]` 使用索引值选取，包含末端\n",
    "- `iloc[行索引,列索引]` 使用索引位置选取，不包含末端\n",
    "\n",
    "### 算术运算\n",
    "- 不同的索引项对象，运算结果的索引是运算对象的索引的并集，而在两个对象中并不同时存在的索引处值为空值NaN\n",
    "- `add()` 两个对象运算时，将一方不存在的索引值用`fill_value=`指定的值代替，若双方都不存在该索引则不替换保存NaN，其他运算方法`sub()` `div()`等都相同\n",
    "- 运算方法前加`r`表示两个对象的运算身份对换，如`rsub()`减数和被减数身份对换\n",
    "- DataFrame和Series之间运算，使用运算符号只能逐行计算，要逐列运算需使用运算方法并指定`axis='index'`\n",
    "\n",
    "### 函数应用和映射\n",
    "- `apply()` 调用一个函数，并应用到Series或DataFrame的每列（默认）或者每行所形成的一维数组上\n",
    "- `applymap()` 调用一个函数，并应用到DataFrame的每个元素上\n",
    "\n",
    "### 排序和排名\n",
    "- `sort_index()` 根据标签排序\n",
    "- `sort_values()` 根据值排序，需使用`by=`来指定参与排序的索引标签，可以单个索引也可以是索引列表进行多列排序\n",
    "- `rank`：从1开始对对象中的有效数据进行排名，遇到平级（相等）数据默认使用该数据的平均排名，比如两个相同数字分别排名5，6位，平均排名就是(5+6)/2=5.5位 \n",
    "\n",
    "### 汇总和统计\n",
    "- 汇总和统计方法一般会自动排除NaN值，除非声明`shipna=False`\n",
    "- 默认汇总和统计方向是行方向`axis=0`\n",
    "\n",
    "### 唯一值、值计数以及成员资格\n",
    "- `unique()` 计算Series中的唯一值，按发现顺序返回\n",
    "- `value_counts()` 计算Series中每个数值的出现频率，默认按频率降序排列\n",
    "- `isin()` 判断Series各值是否包含于传入的序列中，返回布尔型Series"
   ]
  },
  {
   "cell_type": "code",
   "execution_count": null,
   "metadata": {},
   "outputs": [],
   "source": []
  }
 ],
 "metadata": {
  "kernelspec": {
   "display_name": "Python 3",
   "language": "python",
   "name": "python3"
  },
  "language_info": {
   "codemirror_mode": {
    "name": "ipython",
    "version": 3
   },
   "file_extension": ".py",
   "mimetype": "text/x-python",
   "name": "python",
   "nbconvert_exporter": "python",
   "pygments_lexer": "ipython3",
   "version": "3.7.0"
  }
 },
 "nbformat": 4,
 "nbformat_minor": 2
}
