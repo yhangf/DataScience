{
 "cells": [
  {
   "cell_type": "markdown",
   "metadata": {},
   "source": [
    "## json库回顾\n",
    "### 加载json为python对象\n",
    "`json.load`：从json文件中加载json  \n",
    "`json.loads`：从字符串或其他对象中加载json"
   ]
  },
  {
   "cell_type": "code",
   "execution_count": 1,
   "metadata": {},
   "outputs": [
    {
     "data": {
      "text/plain": [
       "{'A': {'a': 1, 'b': 4, 'c': 7},\n",
       " 'B': {'a': 2, 'b': 5, 'c': 8},\n",
       " 'C': {'a': 3, 'b': 6, 'c': 9}}"
      ]
     },
     "execution_count": 1,
     "metadata": {},
     "output_type": "execute_result"
    }
   ],
   "source": [
    "import json\n",
    "str='{\"A\":{\"a\":1,\"b\":4,\"c\":7},\"B\":{\"a\":2,\"b\":5,\"c\":8},\"C\":{\"a\":3,\"b\":6,\"c\":9}}'\n",
    "obj=json.loads(str)\n",
    "obj # dict类型"
   ]
  },
  {
   "cell_type": "code",
   "execution_count": 2,
   "metadata": {},
   "outputs": [
    {
     "data": {
      "text/plain": [
       "{'A': {'a': 1, 'b': 4, 'c': 7},\n",
       " 'B': {'a': 2, 'b': 5, 'c': 8},\n",
       " 'C': {'a': 3, 'b': 6, 'c': 9}}"
      ]
     },
     "execution_count": 2,
     "metadata": {},
     "output_type": "execute_result"
    }
   ],
   "source": [
    "with open('doc\\pd-json.json','r') as f:\n",
    "    obj=json.load(f)\n",
    "    \n",
    "obj"
   ]
  },
  {
   "cell_type": "markdown",
   "metadata": {},
   "source": [
    "### 将python对象编码为json\n",
    "`json.dump`：编码结果保存到文件  \n",
    "`json.dumps`：编码结果到字符串"
   ]
  },
  {
   "cell_type": "code",
   "execution_count": 3,
   "metadata": {},
   "outputs": [
    {
     "data": {
      "text/plain": [
       "'{\"A\": {\"a\": 1, \"b\": 4, \"c\": 7}, \"B\": {\"a\": 2, \"b\": 5, \"c\": 8}, \"C\": {\"a\": 3, \"b\": 6, \"c\": 9}}'"
      ]
     },
     "execution_count": 3,
     "metadata": {},
     "output_type": "execute_result"
    }
   ],
   "source": [
    "str=json.dumps(obj)\n",
    "str"
   ]
  },
  {
   "cell_type": "code",
   "execution_count": 4,
   "metadata": {},
   "outputs": [
    {
     "name": "stdout",
     "output_type": "stream",
     "text": [
      "{\"A\": {\"a\": 1, \"b\": 4, \"c\": 7}, \"B\": {\"a\": 2, \"b\": 5, \"c\": 8}, \"C\": {\"a\": 3, \"b\": 6, \"c\": 9}}\n"
     ]
    }
   ],
   "source": [
    "with open('doc\\pd-json.json','w') as f:\n",
    "    json.dump(obj,f)\n",
    "!type doc\\pd-json.json"
   ]
  },
  {
   "cell_type": "markdown",
   "metadata": {},
   "source": [
    "## JSON与DataFrame之间转换\n",
    "`read_json`：读取json文件或字符串为DataFrame  \n",
    "`to_json`：将DataFrame转换为json文件或字符串  \n",
    "  \n",
    "> 备注：不仅DataFrame可以使用这两个方法，Series同样也可以使用\n",
    "\n",
    "参数`orient`可以指定格式进行转换  \n",
    "`columns`：默认，输出格式为{column -> {index -> value}}  \n",
    "`index`：{index -> {column -> value}}  \n",
    "`split`：{'index' -> [index],'columns' -> [columns], 'data' -> [values]}  \n",
    "`records`：[{column -> value}, ... , {column -> value}]  \n",
    "`values`：全部由值组成，不包括行和列  \n",
    "`table`：{'schema': {schema}, 'data': {data}}"
   ]
  },
  {
   "cell_type": "code",
   "execution_count": 5,
   "metadata": {},
   "outputs": [
    {
     "data": {
      "text/html": [
       "<div>\n",
       "<style scoped>\n",
       "    .dataframe tbody tr th:only-of-type {\n",
       "        vertical-align: middle;\n",
       "    }\n",
       "\n",
       "    .dataframe tbody tr th {\n",
       "        vertical-align: top;\n",
       "    }\n",
       "\n",
       "    .dataframe thead th {\n",
       "        text-align: right;\n",
       "    }\n",
       "</style>\n",
       "<table border=\"1\" class=\"dataframe\">\n",
       "  <thead>\n",
       "    <tr style=\"text-align: right;\">\n",
       "      <th></th>\n",
       "      <th>A</th>\n",
       "      <th>B</th>\n",
       "      <th>C</th>\n",
       "    </tr>\n",
       "  </thead>\n",
       "  <tbody>\n",
       "    <tr>\n",
       "      <th>a</th>\n",
       "      <td>1</td>\n",
       "      <td>2</td>\n",
       "      <td>3</td>\n",
       "    </tr>\n",
       "    <tr>\n",
       "      <th>b</th>\n",
       "      <td>4</td>\n",
       "      <td>5</td>\n",
       "      <td>6</td>\n",
       "    </tr>\n",
       "    <tr>\n",
       "      <th>c</th>\n",
       "      <td>7</td>\n",
       "      <td>8</td>\n",
       "      <td>9</td>\n",
       "    </tr>\n",
       "  </tbody>\n",
       "</table>\n",
       "</div>"
      ],
      "text/plain": [
       "   A  B  C\n",
       "a  1  2  3\n",
       "b  4  5  6\n",
       "c  7  8  9"
      ]
     },
     "execution_count": 5,
     "metadata": {},
     "output_type": "execute_result"
    }
   ],
   "source": [
    "import pandas as pd\n",
    "data=pd.read_json('doc\\pd-json.json')\n",
    "data"
   ]
  },
  {
   "cell_type": "code",
   "execution_count": 16,
   "metadata": {},
   "outputs": [
    {
     "data": {
      "text/html": [
       "<div>\n",
       "<style scoped>\n",
       "    .dataframe tbody tr th:only-of-type {\n",
       "        vertical-align: middle;\n",
       "    }\n",
       "\n",
       "    .dataframe tbody tr th {\n",
       "        vertical-align: top;\n",
       "    }\n",
       "\n",
       "    .dataframe thead th {\n",
       "        text-align: right;\n",
       "    }\n",
       "</style>\n",
       "<table border=\"1\" class=\"dataframe\">\n",
       "  <thead>\n",
       "    <tr style=\"text-align: right;\">\n",
       "      <th></th>\n",
       "      <th>A</th>\n",
       "      <th>C</th>\n",
       "    </tr>\n",
       "  </thead>\n",
       "  <tbody>\n",
       "    <tr>\n",
       "      <th>b</th>\n",
       "      <td>4</td>\n",
       "      <td>6</td>\n",
       "    </tr>\n",
       "    <tr>\n",
       "      <th>c</th>\n",
       "      <td>7</td>\n",
       "      <td>9</td>\n",
       "    </tr>\n",
       "  </tbody>\n",
       "</table>\n",
       "</div>"
      ],
      "text/plain": [
       "   A  C\n",
       "b  4  6\n",
       "c  7  9"
      ]
     },
     "execution_count": 16,
     "metadata": {},
     "output_type": "execute_result"
    }
   ],
   "source": [
    "# 也可以直接将json对象传入DataFrame，并可以指定传入那些行或列\n",
    "with open('doc\\pd-json.json','r') as f:\n",
    "    obj=json.load(f)\n",
    "data=pd.DataFrame(obj,index=list('bc'),columns=list('AC'))\n",
    "data"
   ]
  },
  {
   "cell_type": "code",
   "execution_count": 20,
   "metadata": {},
   "outputs": [
    {
     "name": "stdout",
     "output_type": "stream",
     "text": [
      "{\"A\":{\"b\":4,\"c\":7},\"C\":{\"b\":6,\"c\":9}}\n"
     ]
    }
   ],
   "source": [
    "data.to_json('doc\\pd-write-json.json')\n",
    "!type doc\\pd-write-json.json"
   ]
  },
  {
   "cell_type": "code",
   "execution_count": 23,
   "metadata": {},
   "outputs": [
    {
     "data": {
      "text/plain": [
       "'{\"A\":{\"b\":4,\"c\":7},\"C\":{\"b\":6,\"c\":9}}'"
      ]
     },
     "execution_count": 23,
     "metadata": {},
     "output_type": "execute_result"
    }
   ],
   "source": [
    "data.to_json() # orient参数默认为columns"
   ]
  },
  {
   "cell_type": "code",
   "execution_count": 24,
   "metadata": {},
   "outputs": [
    {
     "data": {
      "text/plain": [
       "'{\"b\":{\"A\":4,\"C\":6},\"c\":{\"A\":7,\"C\":9}}'"
      ]
     },
     "execution_count": 24,
     "metadata": {},
     "output_type": "execute_result"
    }
   ],
   "source": [
    "data.to_json(orient='index')"
   ]
  },
  {
   "cell_type": "code",
   "execution_count": 26,
   "metadata": {},
   "outputs": [
    {
     "data": {
      "text/plain": [
       "'[{\"A\":4,\"C\":6},{\"A\":7,\"C\":9}]'"
      ]
     },
     "execution_count": 26,
     "metadata": {},
     "output_type": "execute_result"
    }
   ],
   "source": [
    "data.to_json(orient='records')"
   ]
  },
  {
   "cell_type": "code",
   "execution_count": 27,
   "metadata": {},
   "outputs": [
    {
     "data": {
      "text/plain": [
       "'{\"columns\":[\"A\",\"C\"],\"index\":[\"b\",\"c\"],\"data\":[[4,6],[7,9]]}'"
      ]
     },
     "execution_count": 27,
     "metadata": {},
     "output_type": "execute_result"
    }
   ],
   "source": [
    "data.to_json(orient='split')"
   ]
  },
  {
   "cell_type": "code",
   "execution_count": 28,
   "metadata": {},
   "outputs": [
    {
     "data": {
      "text/plain": [
       "'[[4,6],[7,9]]'"
      ]
     },
     "execution_count": 28,
     "metadata": {},
     "output_type": "execute_result"
    }
   ],
   "source": [
    "data.to_json(orient='values')"
   ]
  },
  {
   "cell_type": "code",
   "execution_count": 29,
   "metadata": {},
   "outputs": [
    {
     "data": {
      "text/plain": [
       "'{\"schema\": {\"fields\":[{\"name\":\"index\",\"type\":\"string\"},{\"name\":\"A\",\"type\":\"integer\"},{\"name\":\"C\",\"type\":\"integer\"}],\"primaryKey\":[\"index\"],\"pandas_version\":\"0.20.0\"}, \"data\": [{\"index\":\"b\",\"A\":4,\"C\":6},{\"index\":\"c\",\"A\":7,\"C\":9}]}'"
      ]
     },
     "execution_count": 29,
     "metadata": {},
     "output_type": "execute_result"
    }
   ],
   "source": [
    "data.to_json(orient='table')"
   ]
  },
  {
   "cell_type": "code",
   "execution_count": null,
   "metadata": {},
   "outputs": [],
   "source": []
  }
 ],
 "metadata": {
  "kernelspec": {
   "display_name": "Python 3",
   "language": "python",
   "name": "python3"
  },
  "language_info": {
   "codemirror_mode": {
    "name": "ipython",
    "version": 3
   },
   "file_extension": ".py",
   "mimetype": "text/x-python",
   "name": "python",
   "nbconvert_exporter": "python",
   "pygments_lexer": "ipython3",
   "version": "3.7.0"
  }
 },
 "nbformat": 4,
 "nbformat_minor": 2
}
