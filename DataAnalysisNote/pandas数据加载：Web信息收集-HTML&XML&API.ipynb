{
 "cells": [
  {
   "cell_type": "markdown",
   "metadata": {},
   "source": [
    "## Web信息收集\n",
    "### HTML\n",
    "`read_html`：对html文件中的表格进行解析，得到的由DataFrame组成的列表，列表中每个DataFrame对应html文件中的每个表格\n",
    "> 注：\n",
    "- html文件必须是标准的html5格式，表格列名要用<thead\\>标签包围，否则生成的DataFrame是不会将表格列名作为columns的，而是用自动生成的数字序列代替；\n",
    "- 若html文件表格中有<tbody\\>标签，则数据内容需要包含在<tbody\\>标签中，否则不会被读取；\n",
    "- 若没有<tbody\\>标签，表格所有数据都会被读取为DataFrame的values，如果此时又有<thead\\>标签，则列名会被同时读取为columns和values，即columns和第一行内容都是列名。\n",
    "\n",
    "参数：  \n",
    "`header`：指定行索引所对应的行作为columns，对于没有<thead\\>标签的表格，可使用`header=0`  \n",
    "`index_col`：指定列索引所对应的列作为index"
   ]
  },
  {
   "cell_type": "code",
   "execution_count": 1,
   "metadata": {},
   "outputs": [],
   "source": [
    "import pandas as pd"
   ]
  },
  {
   "cell_type": "code",
   "execution_count": 2,
   "metadata": {},
   "outputs": [],
   "source": [
    "tables=pd.read_html('doc\\pd-web.html')"
   ]
  },
  {
   "cell_type": "code",
   "execution_count": 3,
   "metadata": {},
   "outputs": [],
   "source": [
    "table=tables[0]"
   ]
  },
  {
   "cell_type": "code",
   "execution_count": 4,
   "metadata": {},
   "outputs": [
    {
     "name": "stdout",
     "output_type": "stream",
     "text": [
      "tables' type is <class 'list'>\n",
      "table's type is <class 'pandas.core.frame.DataFrame'>\n"
     ]
    }
   ],
   "source": [
    "print(\"tables' type is %s\\ntable's type is %s\"%(type(tables),type(table)))"
   ]
  },
  {
   "cell_type": "code",
   "execution_count": 5,
   "metadata": {},
   "outputs": [
    {
     "data": {
      "text/html": [
       "<div>\n",
       "<style scoped>\n",
       "    .dataframe tbody tr th:only-of-type {\n",
       "        vertical-align: middle;\n",
       "    }\n",
       "\n",
       "    .dataframe tbody tr th {\n",
       "        vertical-align: top;\n",
       "    }\n",
       "\n",
       "    .dataframe thead th {\n",
       "        text-align: right;\n",
       "    }\n",
       "</style>\n",
       "<table border=\"1\" class=\"dataframe\">\n",
       "  <thead>\n",
       "    <tr style=\"text-align: right;\">\n",
       "      <th></th>\n",
       "      <th>箱号</th>\n",
       "      <th>尺寸</th>\n",
       "      <th>箱型</th>\n",
       "      <th>进场日期</th>\n",
       "      <th>堆存天数</th>\n",
       "      <th>箱动态</th>\n",
       "      <th>箱状况</th>\n",
       "      <th>来箱情况</th>\n",
       "      <th>备注</th>\n",
       "      <th>堆场</th>\n",
       "    </tr>\n",
       "  </thead>\n",
       "  <tbody>\n",
       "    <tr>\n",
       "      <th>0</th>\n",
       "      <td>AMFU3238167</td>\n",
       "      <td>20</td>\n",
       "      <td>GP</td>\n",
       "      <td>2019-1-20 13:05:44</td>\n",
       "      <td>27</td>\n",
       "      <td>EC</td>\n",
       "      <td>坏箱</td>\n",
       "      <td>回空</td>\n",
       "      <td>NaN</td>\n",
       "      <td>SHIC</td>\n",
       "    </tr>\n",
       "    <tr>\n",
       "      <th>1</th>\n",
       "      <td>BMOU2241483</td>\n",
       "      <td>20</td>\n",
       "      <td>GP</td>\n",
       "      <td>2019-1-28 20:45:05</td>\n",
       "      <td>19</td>\n",
       "      <td>EC</td>\n",
       "      <td>坏箱</td>\n",
       "      <td>回空</td>\n",
       "      <td>NaN</td>\n",
       "      <td>SHIC</td>\n",
       "    </tr>\n",
       "    <tr>\n",
       "      <th>2</th>\n",
       "      <td>BMOU2405247</td>\n",
       "      <td>20</td>\n",
       "      <td>GP</td>\n",
       "      <td>2019-1-22 21:04:15</td>\n",
       "      <td>25</td>\n",
       "      <td>EC</td>\n",
       "      <td>好箱</td>\n",
       "      <td>洋山三期</td>\n",
       "      <td>NaN</td>\n",
       "      <td>SHWL</td>\n",
       "    </tr>\n",
       "    <tr>\n",
       "      <th>3</th>\n",
       "      <td>BMOU2552042</td>\n",
       "      <td>20</td>\n",
       "      <td>GP</td>\n",
       "      <td>2019-1-27 10:24:36</td>\n",
       "      <td>20</td>\n",
       "      <td>EC</td>\n",
       "      <td>坏箱</td>\n",
       "      <td>回空</td>\n",
       "      <td>NaN</td>\n",
       "      <td>SHIC</td>\n",
       "    </tr>\n",
       "    <tr>\n",
       "      <th>4</th>\n",
       "      <td>BMOU2553711</td>\n",
       "      <td>20</td>\n",
       "      <td>GP</td>\n",
       "      <td>2019-2-15 13:47:58</td>\n",
       "      <td>1</td>\n",
       "      <td>EC</td>\n",
       "      <td>坏箱</td>\n",
       "      <td>回空</td>\n",
       "      <td>NaN</td>\n",
       "      <td>SHIC</td>\n",
       "    </tr>\n",
       "  </tbody>\n",
       "</table>\n",
       "</div>"
      ],
      "text/plain": [
       "            箱号  尺寸  箱型                进场日期  堆存天数 箱动态 箱状况  来箱情况  备注    堆场\n",
       "0  AMFU3238167  20  GP  2019-1-20 13:05:44    27  EC  坏箱    回空 NaN  SHIC\n",
       "1  BMOU2241483  20  GP  2019-1-28 20:45:05    19  EC  坏箱    回空 NaN  SHIC\n",
       "2  BMOU2405247  20  GP  2019-1-22 21:04:15    25  EC  好箱  洋山三期 NaN  SHWL\n",
       "3  BMOU2552042  20  GP  2019-1-27 10:24:36    20  EC  坏箱    回空 NaN  SHIC\n",
       "4  BMOU2553711  20  GP  2019-2-15 13:47:58     1  EC  坏箱    回空 NaN  SHIC"
      ]
     },
     "execution_count": 5,
     "metadata": {},
     "output_type": "execute_result"
    }
   ],
   "source": [
    "table.head()"
   ]
  },
  {
   "cell_type": "code",
   "execution_count": 6,
   "metadata": {},
   "outputs": [
    {
     "data": {
      "text/plain": [
       "1    BMOU2241483\n",
       "2    BMOU2405247\n",
       "3    BMOU2552042\n",
       "Name: 箱号, dtype: object"
      ]
     },
     "execution_count": 6,
     "metadata": {},
     "output_type": "execute_result"
    }
   ],
   "source": [
    "table['箱号'][1:4] # 指定某列某行，得到个Series"
   ]
  },
  {
   "cell_type": "code",
   "execution_count": 7,
   "metadata": {},
   "outputs": [
    {
     "data": {
      "text/html": [
       "<div>\n",
       "<style scoped>\n",
       "    .dataframe tbody tr th:only-of-type {\n",
       "        vertical-align: middle;\n",
       "    }\n",
       "\n",
       "    .dataframe tbody tr th {\n",
       "        vertical-align: top;\n",
       "    }\n",
       "\n",
       "    .dataframe thead th {\n",
       "        text-align: right;\n",
       "    }\n",
       "</style>\n",
       "<table border=\"1\" class=\"dataframe\">\n",
       "  <thead>\n",
       "    <tr style=\"text-align: right;\">\n",
       "      <th></th>\n",
       "      <th>箱号</th>\n",
       "      <th>尺寸</th>\n",
       "      <th>箱型</th>\n",
       "      <th>进场日期</th>\n",
       "      <th>堆存天数</th>\n",
       "      <th>箱动态</th>\n",
       "      <th>箱状况</th>\n",
       "      <th>来箱情况</th>\n",
       "      <th>备注</th>\n",
       "      <th>堆场</th>\n",
       "    </tr>\n",
       "  </thead>\n",
       "  <tbody>\n",
       "    <tr>\n",
       "      <th>0</th>\n",
       "      <td>箱号</td>\n",
       "      <td>尺寸</td>\n",
       "      <td>箱型</td>\n",
       "      <td>进场日期</td>\n",
       "      <td>堆存天数</td>\n",
       "      <td>箱动态</td>\n",
       "      <td>箱状况</td>\n",
       "      <td>来箱情况</td>\n",
       "      <td>备注</td>\n",
       "      <td>堆场</td>\n",
       "    </tr>\n",
       "    <tr>\n",
       "      <th>1</th>\n",
       "      <td>AMFU3238167</td>\n",
       "      <td>20</td>\n",
       "      <td>GP</td>\n",
       "      <td>2019-1-20 13:05:44</td>\n",
       "      <td>27</td>\n",
       "      <td>EC</td>\n",
       "      <td>坏箱</td>\n",
       "      <td>回空</td>\n",
       "      <td>NaN</td>\n",
       "      <td>SHIC</td>\n",
       "    </tr>\n",
       "    <tr>\n",
       "      <th>2</th>\n",
       "      <td>BMOU2241483</td>\n",
       "      <td>20</td>\n",
       "      <td>GP</td>\n",
       "      <td>2019-1-28 20:45:05</td>\n",
       "      <td>19</td>\n",
       "      <td>EC</td>\n",
       "      <td>坏箱</td>\n",
       "      <td>回空</td>\n",
       "      <td>NaN</td>\n",
       "      <td>SHIC</td>\n",
       "    </tr>\n",
       "    <tr>\n",
       "      <th>3</th>\n",
       "      <td>BMOU2405247</td>\n",
       "      <td>20</td>\n",
       "      <td>GP</td>\n",
       "      <td>2019-1-22 21:04:15</td>\n",
       "      <td>25</td>\n",
       "      <td>EC</td>\n",
       "      <td>好箱</td>\n",
       "      <td>洋山三期</td>\n",
       "      <td>NaN</td>\n",
       "      <td>SHWL</td>\n",
       "    </tr>\n",
       "    <tr>\n",
       "      <th>4</th>\n",
       "      <td>BMOU2552042</td>\n",
       "      <td>20</td>\n",
       "      <td>GP</td>\n",
       "      <td>2019-1-27 10:24:36</td>\n",
       "      <td>20</td>\n",
       "      <td>EC</td>\n",
       "      <td>坏箱</td>\n",
       "      <td>回空</td>\n",
       "      <td>NaN</td>\n",
       "      <td>SHIC</td>\n",
       "    </tr>\n",
       "    <tr>\n",
       "      <th>5</th>\n",
       "      <td>BMOU2553711</td>\n",
       "      <td>20</td>\n",
       "      <td>GP</td>\n",
       "      <td>2019-2-15 13:47:58</td>\n",
       "      <td>1</td>\n",
       "      <td>EC</td>\n",
       "      <td>坏箱</td>\n",
       "      <td>回空</td>\n",
       "      <td>NaN</td>\n",
       "      <td>SHIC</td>\n",
       "    </tr>\n",
       "  </tbody>\n",
       "</table>\n",
       "</div>"
      ],
      "text/plain": [
       "            箱号  尺寸  箱型                进场日期  堆存天数  箱动态  箱状况  来箱情况   备注    堆场\n",
       "0           箱号  尺寸  箱型                进场日期  堆存天数  箱动态  箱状况  来箱情况   备注    堆场\n",
       "1  AMFU3238167  20  GP  2019-1-20 13:05:44    27   EC   坏箱    回空  NaN  SHIC\n",
       "2  BMOU2241483  20  GP  2019-1-28 20:45:05    19   EC   坏箱    回空  NaN  SHIC\n",
       "3  BMOU2405247  20  GP  2019-1-22 21:04:15    25   EC   好箱  洋山三期  NaN  SHWL\n",
       "4  BMOU2552042  20  GP  2019-1-27 10:24:36    20   EC   坏箱    回空  NaN  SHIC\n",
       "5  BMOU2553711  20  GP  2019-2-15 13:47:58     1   EC   坏箱    回空  NaN  SHIC"
      ]
     },
     "execution_count": 7,
     "metadata": {},
     "output_type": "execute_result"
    }
   ],
   "source": [
    "# pd-web-1.html的表格有<thead>但没有<tbody>，列名会同时被读取为columns和values\n",
    "t1=pd.read_html('doc\\pd-web-1.html')\n",
    "t1=t1[0]\n",
    "t1"
   ]
  },
  {
   "cell_type": "code",
   "execution_count": 8,
   "metadata": {},
   "outputs": [
    {
     "data": {
      "text/html": [
       "<div>\n",
       "<style scoped>\n",
       "    .dataframe tbody tr th:only-of-type {\n",
       "        vertical-align: middle;\n",
       "    }\n",
       "\n",
       "    .dataframe tbody tr th {\n",
       "        vertical-align: top;\n",
       "    }\n",
       "\n",
       "    .dataframe thead th {\n",
       "        text-align: right;\n",
       "    }\n",
       "</style>\n",
       "<table border=\"1\" class=\"dataframe\">\n",
       "  <thead>\n",
       "    <tr style=\"text-align: right;\">\n",
       "      <th></th>\n",
       "      <th>箱号</th>\n",
       "      <th>箱型</th>\n",
       "      <th>进场日期</th>\n",
       "      <th>堆存天数</th>\n",
       "      <th>箱动态</th>\n",
       "      <th>箱状况</th>\n",
       "      <th>来箱情况</th>\n",
       "      <th>备注</th>\n",
       "      <th>堆场</th>\n",
       "    </tr>\n",
       "    <tr>\n",
       "      <th>尺寸</th>\n",
       "      <th></th>\n",
       "      <th></th>\n",
       "      <th></th>\n",
       "      <th></th>\n",
       "      <th></th>\n",
       "      <th></th>\n",
       "      <th></th>\n",
       "      <th></th>\n",
       "      <th></th>\n",
       "    </tr>\n",
       "  </thead>\n",
       "  <tbody>\n",
       "    <tr>\n",
       "      <th>20</th>\n",
       "      <td>AMFU3238167</td>\n",
       "      <td>GP</td>\n",
       "      <td>2019-1-20 13:05:44</td>\n",
       "      <td>27</td>\n",
       "      <td>EC</td>\n",
       "      <td>坏箱</td>\n",
       "      <td>回空</td>\n",
       "      <td>NaN</td>\n",
       "      <td>SHIC</td>\n",
       "    </tr>\n",
       "    <tr>\n",
       "      <th>20</th>\n",
       "      <td>BMOU2241483</td>\n",
       "      <td>GP</td>\n",
       "      <td>2019-1-28 20:45:05</td>\n",
       "      <td>19</td>\n",
       "      <td>EC</td>\n",
       "      <td>坏箱</td>\n",
       "      <td>回空</td>\n",
       "      <td>NaN</td>\n",
       "      <td>SHIC</td>\n",
       "    </tr>\n",
       "    <tr>\n",
       "      <th>20</th>\n",
       "      <td>BMOU2405247</td>\n",
       "      <td>GP</td>\n",
       "      <td>2019-1-22 21:04:15</td>\n",
       "      <td>25</td>\n",
       "      <td>EC</td>\n",
       "      <td>好箱</td>\n",
       "      <td>洋山三期</td>\n",
       "      <td>NaN</td>\n",
       "      <td>SHWL</td>\n",
       "    </tr>\n",
       "    <tr>\n",
       "      <th>20</th>\n",
       "      <td>BMOU2552042</td>\n",
       "      <td>GP</td>\n",
       "      <td>2019-1-27 10:24:36</td>\n",
       "      <td>20</td>\n",
       "      <td>EC</td>\n",
       "      <td>坏箱</td>\n",
       "      <td>回空</td>\n",
       "      <td>NaN</td>\n",
       "      <td>SHIC</td>\n",
       "    </tr>\n",
       "    <tr>\n",
       "      <th>20</th>\n",
       "      <td>BMOU2553711</td>\n",
       "      <td>GP</td>\n",
       "      <td>2019-2-15 13:47:58</td>\n",
       "      <td>1</td>\n",
       "      <td>EC</td>\n",
       "      <td>坏箱</td>\n",
       "      <td>回空</td>\n",
       "      <td>NaN</td>\n",
       "      <td>SHIC</td>\n",
       "    </tr>\n",
       "  </tbody>\n",
       "</table>\n",
       "</div>"
      ],
      "text/plain": [
       "             箱号  箱型                进场日期  堆存天数 箱动态 箱状况  来箱情况  备注    堆场\n",
       "尺寸                                                                   \n",
       "20  AMFU3238167  GP  2019-1-20 13:05:44    27  EC  坏箱    回空 NaN  SHIC\n",
       "20  BMOU2241483  GP  2019-1-28 20:45:05    19  EC  坏箱    回空 NaN  SHIC\n",
       "20  BMOU2405247  GP  2019-1-22 21:04:15    25  EC  好箱  洋山三期 NaN  SHWL\n",
       "20  BMOU2552042  GP  2019-1-27 10:24:36    20  EC  坏箱    回空 NaN  SHIC\n",
       "20  BMOU2553711  GP  2019-2-15 13:47:58     1  EC  坏箱    回空 NaN  SHIC"
      ]
     },
     "execution_count": 8,
     "metadata": {},
     "output_type": "execute_result"
    }
   ],
   "source": [
    "# pd-web-1.html的表格没有<thead>，使用header参数指定columns，index_col可以指定index\n",
    "t2=pd.read_html('doc\\pd-web-2.html',header=0,index_col=1)\n",
    "t2=t2[0]\n",
    "t2"
   ]
  },
  {
   "cell_type": "markdown",
   "metadata": {},
   "source": [
    "### XML\n",
    "对XML进行解析，思路是通过支持解析XML的库，将XML文件解析为字典对象，然后再转换为DataFrame。  \n",
    "比如使用`lxml.objectify`解析xml文件，先使用`getroot`获取文件的根节点root，root.[根节点名]返回产生各个XML元素的生成器。  \n",
    "  \n",
    "用例文件pd-xml.xml：\n",
    "```XML\n",
    "<class name = \"一年级2班\">\n",
    "    <student>\n",
    "        <name>王二麻子</name>\n",
    "        <age>18</age>\n",
    "        <sex>女</sex>\n",
    "    </student>\n",
    "    <student>\n",
    "        <name>张三</name>\n",
    "        <age>20</age>\n",
    "        <sex>男</sex>\n",
    "    </student>\n",
    "    <student>\n",
    "        <name>李四</name>\n",
    "        <age>33</age>\n",
    "        <sex>不知道</sex>\n",
    "    </student>\n",
    "</class>\n",
    "```"
   ]
  },
  {
   "cell_type": "code",
   "execution_count": 9,
   "metadata": {},
   "outputs": [
    {
     "name": "stdout",
     "output_type": "stream",
     "text": [
      "根节点标签是：class，标签属性值是：一年级2班\n"
     ]
    }
   ],
   "source": [
    "from lxml import objectify\n",
    "parsed=objectify.parse(open('doc\\pd-xml.xml',encoding='utf-8'))\n",
    "root=parsed.getroot()\n",
    "print('根节点标签是：%s，标签属性值是：%s'%(root.tag,root.get('name'))) # root是根节点，即class节点，root.get()或root.attrib[]可以获取标签属性值"
   ]
  },
  {
   "cell_type": "code",
   "execution_count": 10,
   "metadata": {},
   "outputs": [
    {
     "name": "stdout",
     "output_type": "stream",
     "text": [
      "第一个节点标签是name，内容是王二麻子\n"
     ]
    }
   ],
   "source": [
    "# 了解下如何对元素进行解析\n",
    "student=root.student[0] # 第一个学生\n",
    "info=student.getchildren() # 学生的信息列表，列表元素是每个子节点元素，包括tag和节点值\n",
    "print('第一个节点标签是%s，内容是%s'%(info[0].tag,info[0].text))"
   ]
  },
  {
   "cell_type": "code",
   "execution_count": 11,
   "metadata": {},
   "outputs": [
    {
     "data": {
      "text/plain": [
       "[{'name': '王二麻子', 'age': '18', 'sex': '女'},\n",
       " {'name': '张三', 'age': '20', 'sex': '男'},\n",
       " {'name': '李四', 'age': '33', 'sex': '不知道'}]"
      ]
     },
     "execution_count": 11,
     "metadata": {},
     "output_type": "execute_result"
    }
   ],
   "source": [
    "data=[]\n",
    "for student in root.student: # 读取每个student节点\n",
    "    info_data={}\n",
    "    for info in student.getchildren(): # 读取student节点下每个子节点\n",
    "        info_data[info.tag]=info.text # 节点标签和内容以字典形式保存\n",
    "    data.append(info_data) # 将保存有学生信息的字典追加至data中\n",
    "data # data为一个list，每个元素是保存有每个学生信息的字典"
   ]
  },
  {
   "cell_type": "code",
   "execution_count": 12,
   "metadata": {},
   "outputs": [
    {
     "data": {
      "text/html": [
       "<div>\n",
       "<style scoped>\n",
       "    .dataframe tbody tr th:only-of-type {\n",
       "        vertical-align: middle;\n",
       "    }\n",
       "\n",
       "    .dataframe tbody tr th {\n",
       "        vertical-align: top;\n",
       "    }\n",
       "\n",
       "    .dataframe thead th {\n",
       "        text-align: right;\n",
       "    }\n",
       "</style>\n",
       "<table border=\"1\" class=\"dataframe\">\n",
       "  <thead>\n",
       "    <tr style=\"text-align: right;\">\n",
       "      <th></th>\n",
       "      <th>age</th>\n",
       "      <th>name</th>\n",
       "      <th>sex</th>\n",
       "    </tr>\n",
       "  </thead>\n",
       "  <tbody>\n",
       "    <tr>\n",
       "      <th>0</th>\n",
       "      <td>18</td>\n",
       "      <td>王二麻子</td>\n",
       "      <td>女</td>\n",
       "    </tr>\n",
       "    <tr>\n",
       "      <th>1</th>\n",
       "      <td>20</td>\n",
       "      <td>张三</td>\n",
       "      <td>男</td>\n",
       "    </tr>\n",
       "    <tr>\n",
       "      <th>2</th>\n",
       "      <td>33</td>\n",
       "      <td>李四</td>\n",
       "      <td>不知道</td>\n",
       "    </tr>\n",
       "  </tbody>\n",
       "</table>\n",
       "</div>"
      ],
      "text/plain": [
       "  age  name  sex\n",
       "0  18  王二麻子    女\n",
       "1  20    张三    男\n",
       "2  33    李四  不知道"
      ]
     },
     "execution_count": 12,
     "metadata": {},
     "output_type": "execute_result"
    }
   ],
   "source": [
    "result=pd.DataFrame(data) # 将data转换为DataFrame\n",
    "result"
   ]
  },
  {
   "cell_type": "markdown",
   "metadata": {},
   "source": [
    "## API接口\n",
    "许多网站都有公共API接口，提供json、xml或其他格式的数据。python可以通过访问这些API接口来获取数据，然后进行分析。访问API最简单的方法就是使用requests包。\n",
    "我们通过requests发送一个HTTP GET请求到API接口地址，会接收到API接口返回的数据（一般是json或xml），根据数据格式使用相应的方法进行数据解析，获得python对象。\n",
    "下面的例子访问github上pandas项目的issues，以获取issues的主题："
   ]
  },
  {
   "cell_type": "code",
   "execution_count": 13,
   "metadata": {},
   "outputs": [],
   "source": [
    "import requests\n",
    "url='https://api.github.com/repos/pandas-dev/pandas/issues' # 接口url地址"
   ]
  },
  {
   "cell_type": "code",
   "execution_count": 14,
   "metadata": {},
   "outputs": [
    {
     "data": {
      "text/plain": [
       "<Response [200]>"
      ]
     },
     "execution_count": 14,
     "metadata": {},
     "output_type": "execute_result"
    }
   ],
   "source": [
    "resp=requests.get(url) # 发送GET请求到接口地址，并获取返回的json格式数据\n",
    "resp # 200表明成功"
   ]
  },
  {
   "cell_type": "code",
   "execution_count": 15,
   "metadata": {},
   "outputs": [],
   "source": [
    "data=resp.json() # 将json转换为字典格式"
   ]
  },
  {
   "cell_type": "code",
   "execution_count": 16,
   "metadata": {},
   "outputs": [
    {
     "data": {
      "text/plain": [
       "'Extension dtypes do not work with dataframe query method '"
      ]
     },
     "execution_count": 16,
     "metadata": {},
     "output_type": "execute_result"
    }
   ],
   "source": [
    "data[0]['title']"
   ]
  },
  {
   "cell_type": "code",
   "execution_count": 26,
   "metadata": {},
   "outputs": [],
   "source": [
    "issues = pd.DataFrame(data, columns=['number', 'title', 'labels', 'state']) # 转换为DataFrame"
   ]
  },
  {
   "cell_type": "code",
   "execution_count": null,
   "metadata": {},
   "outputs": [],
   "source": []
  }
 ],
 "metadata": {
  "kernelspec": {
   "display_name": "Python 3",
   "language": "python",
   "name": "python3"
  },
  "language_info": {
   "codemirror_mode": {
    "name": "ipython",
    "version": 3
   },
   "file_extension": ".py",
   "mimetype": "text/x-python",
   "name": "python",
   "nbconvert_exporter": "python",
   "pygments_lexer": "ipython3",
   "version": "3.7.0"
  }
 },
 "nbformat": 4,
 "nbformat_minor": 2
}
